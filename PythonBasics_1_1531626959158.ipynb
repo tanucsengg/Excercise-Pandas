{
  "nbformat": 4,
  "nbformat_minor": 0,
  "metadata": {
    "kernelspec": {
      "display_name": "Python 3",
      "language": "python",
      "name": "python3"
    },
    "language_info": {
      "codemirror_mode": {
        "name": "ipython",
        "version": 3
      },
      "file_extension": ".py",
      "mimetype": "text/x-python",
      "name": "python",
      "nbconvert_exporter": "python",
      "pygments_lexer": "ipython3",
      "version": "3.6.0"
    },
    "colab": {
      "name": "PythonBasics_1-1531626959158.ipynb",
      "provenance": [],
      "collapsed_sections": [],
      "include_colab_link": true
    }
  },
  "cells": [
    {
      "cell_type": "markdown",
      "metadata": {
        "id": "view-in-github",
        "colab_type": "text"
      },
      "source": [
        "<a href=\"https://colab.research.google.com/github/tanucsengg/Excercise-Pandas/blob/main/PythonBasics_1_1531626959158.ipynb\" target=\"_parent\"><img src=\"https://colab.research.google.com/assets/colab-badge.svg\" alt=\"Open In Colab\"/></a>"
      ]
    },
    {
      "cell_type": "markdown",
      "metadata": {
        "id": "vICWytcvtTPe"
      },
      "source": [
        "# <center>Python Basics<center/> \n"
      ]
    },
    {
      "cell_type": "markdown",
      "metadata": {
        "id": "2cIpc3tktTPn"
      },
      "source": [
        "<"
      ]
    },
    {
      "cell_type": "markdown",
      "metadata": {
        "id": "I7AZw4tntTPo"
      },
      "source": [
        "# Table of contents\n",
        "<br/>\n",
        "<a href = \"#1.-Python-Keywords\">1. Python Keywords</a>\n",
        "\n",
        "<a href = \"#2.-Identifiers\">2. Identifiers</a>\n",
        "\n",
        "<a href = \"#3.-Comments-in-Python\">3. Comments in Python</a>\n",
        "\n",
        "<a href = \"#4.-Python-Indentation\">4. Python Indentation</a>\n",
        "\n",
        "<a href = \"#5.-Python-Statement\">5. Python Statement</a>"
      ]
    },
    {
      "cell_type": "markdown",
      "metadata": {
        "id": "Qm31kkL7tTPo"
      },
      "source": [
        "# 1. Python Keywords"
      ]
    },
    {
      "cell_type": "markdown",
      "metadata": {
        "id": "7SxMlLtDtTPp"
      },
      "source": [
        "Keywords in Python are reservered words that cannot be used as ordinary\n",
        "identifiers.<p/>\n",
        "They must be spelled exacty as they are written. <p/>\n",
        "The 33 keywords in Python 3.6 are:<p/>"
      ]
    },
    {
      "cell_type": "markdown",
      "metadata": {
        "id": "VBEAOxbXtTPp"
      },
      "source": [
        "<table width='100%'>\n",
        "<tr><th>and</tc><th>del</tc><th>from</tc><th>not</tc><th>while</tc></tr>\n",
        "<tr><th>as</tc><th> elif</tc><th>global</tc><th>or</tc><th> with</tc></tr>\n",
        "<tr><th>assert</tc><th>else</tc><th>if</tc><th> pass</tc><th>yield</tc></tr>\n",
        "<tr><th>break</tc><th> except</tc><th>import</tc><th>print</tc></tr>\n",
        "<tr><th>class</tc><th> exec</tc><th>in</tc><th> raise</tc></tr>\n",
        "<tr><th>continue</tc><th>finally</tc><th> is</tc><th> return </tc></tr>\n",
        "<tr><th>def</tc><th>for</tc><th>lambda</tc><th>try</tc></tr>\n",
        "</table>"
      ]
    },
    {
      "cell_type": "code",
      "metadata": {
        "id": "d1nsb4DitTPq",
        "outputId": "b4bb5d0b-42bb-4a90-a56f-407f65b29704"
      },
      "source": [
        "#To extract all keywords in python 3.6 use the below code\n",
        "\n",
        "import keyword\n",
        "\n",
        "print(keyword.kwlist)"
      ],
      "execution_count": null,
      "outputs": [
        {
          "output_type": "stream",
          "text": [
            "['False', 'None', 'True', 'and', 'as', 'assert', 'break', 'class', 'continue', 'def', 'del', 'elif', 'else', 'except', 'finally', 'for', 'from', 'global', 'if', 'import', 'in', 'is', 'lambda', 'nonlocal', 'not', 'or', 'pass', 'raise', 'return', 'try', 'while', 'with', 'yield']\n"
          ],
          "name": "stdout"
        }
      ]
    },
    {
      "cell_type": "code",
      "metadata": {
        "id": "a7y6I8S9tTPs",
        "outputId": "9bbb4599-63f7-499a-efab-f4d3eed687d7"
      },
      "source": [
        "# Number of keywords are \n",
        "print(\"keywords in python 3.6 are:\", len(keyword.kwlist))"
      ],
      "execution_count": null,
      "outputs": [
        {
          "output_type": "stream",
          "text": [
            "keywords in python 3.6 are: 33\n"
          ],
          "name": "stdout"
        }
      ]
    },
    {
      "cell_type": "markdown",
      "metadata": {
        "collapsed": true,
        "id": "mhmxjQUetTPs"
      },
      "source": [
        "# 2. Identifiers"
      ]
    },
    {
      "cell_type": "markdown",
      "metadata": {
        "id": "xBkygHPEtTPt"
      },
      "source": [
        "Identifiers (also referred to as names) is given to entities like class, functions, variables etc. in Python. It helps differentiating one entity from another."
      ]
    },
    {
      "cell_type": "markdown",
      "metadata": {
        "id": "UqHLPwxQtTPt"
      },
      "source": [
        "Rules for Writing Identifiers:\n",
        "\n",
        "1. Identifiers can be a combination of letters in lowercase (a to z) or uppercase (A to Z) or digits (0 to 9) or an underscore (_).\n",
        "\n",
        "2. An identifier cannot start with a digit. <i>'99somename'</i> is invalid, but <i>'somename99'</i> is perfectly fine.\n",
        "\n",
        "3. Keywords cannot be used as identifiers."
      ]
    },
    {
      "cell_type": "code",
      "metadata": {
        "id": "I6SAaDBptTPt",
        "outputId": "66612709-d374-4b67-f109-6ff0fb9770a5"
      },
      "source": [
        "99somename = 100      # Wrong way of defining identifiers"
      ],
      "execution_count": null,
      "outputs": [
        {
          "output_type": "error",
          "ename": "SyntaxError",
          "evalue": "invalid syntax (<ipython-input-13-e6c9f7eda5aa>, line 1)",
          "traceback": [
            "\u001b[0;36m  File \u001b[0;32m\"<ipython-input-13-e6c9f7eda5aa>\"\u001b[0;36m, line \u001b[0;32m1\u001b[0m\n\u001b[0;31m    99somename = 100\u001b[0m\n\u001b[0m             ^\u001b[0m\n\u001b[0;31mSyntaxError\u001b[0m\u001b[0;31m:\u001b[0m invalid syntax\n"
          ]
        }
      ]
    },
    {
      "cell_type": "code",
      "metadata": {
        "id": "5DmZA2nQtTPu",
        "outputId": "4dc3ad66-918d-4bdc-c3ed-b3d28190a70f"
      },
      "source": [
        "somename99 = 100      # Right way of defining identifiers\n",
        "print(somename99)"
      ],
      "execution_count": null,
      "outputs": [
        {
          "output_type": "stream",
          "text": [
            "100\n"
          ],
          "name": "stdout"
        }
      ]
    },
    {
      "cell_type": "code",
      "metadata": {
        "id": "Y2s60SjntTPu",
        "outputId": "900c84b7-ba76-4df8-c3ff-89010001e7ec"
      },
      "source": [
        "break = 1             # Cannot use keyword as identifiers"
      ],
      "execution_count": null,
      "outputs": [
        {
          "output_type": "error",
          "ename": "SyntaxError",
          "evalue": "invalid syntax (<ipython-input-9-0a0e97cd82d8>, line 1)",
          "traceback": [
            "\u001b[0;36m  File \u001b[0;32m\"<ipython-input-9-0a0e97cd82d8>\"\u001b[0;36m, line \u001b[0;32m1\u001b[0m\n\u001b[0;31m    break = 1\u001b[0m\n\u001b[0m          ^\u001b[0m\n\u001b[0;31mSyntaxError\u001b[0m\u001b[0;31m:\u001b[0m invalid syntax\n"
          ]
        }
      ]
    },
    {
      "cell_type": "markdown",
      "metadata": {
        "id": "3s3f3VaBtTPv"
      },
      "source": [
        " We cannot use special symbols like !, @, #, $, % etc. in our identifier."
      ]
    },
    {
      "cell_type": "code",
      "metadata": {
        "id": "EKLdf-A6tTPv",
        "outputId": "026e1922-9ef9-427d-bd68-62fe96c794cb"
      },
      "source": [
        "hello@ = 10           #can't use special symbols as an identifier"
      ],
      "execution_count": null,
      "outputs": [
        {
          "output_type": "error",
          "ename": "SyntaxError",
          "evalue": "invalid syntax (<ipython-input-10-74122af75f83>, line 1)",
          "traceback": [
            "\u001b[0;36m  File \u001b[0;32m\"<ipython-input-10-74122af75f83>\"\u001b[0;36m, line \u001b[0;32m1\u001b[0m\n\u001b[0;31m    hello@ = 10             #can't use special symbols as an identifier\u001b[0m\n\u001b[0m           ^\u001b[0m\n\u001b[0;31mSyntaxError\u001b[0m\u001b[0;31m:\u001b[0m invalid syntax\n"
          ]
        }
      ]
    },
    {
      "cell_type": "markdown",
      "metadata": {
        "id": "M4Kpmvi6tTPw"
      },
      "source": [
        "### Few more correct identifiers"
      ]
    },
    {
      "cell_type": "code",
      "metadata": {
        "id": "M4qPMLeotTPw",
        "outputId": "707beca6-c112-4524-acae-1631ccf57398"
      },
      "source": [
        "hello = 1\n",
        "print('hello: ',hello)\n",
        "\n",
        "hello123 = 1\n",
        "print('hello123: ',hello123)\n",
        "\n",
        "hello_1 = 1\n",
        "print('hello_1: ',hello_1)"
      ],
      "execution_count": null,
      "outputs": [
        {
          "output_type": "stream",
          "text": [
            "hello:  1\n",
            "hello123:  1\n",
            "hello_1:  1\n"
          ],
          "name": "stdout"
        }
      ]
    },
    {
      "cell_type": "markdown",
      "metadata": {
        "id": "Um5fo50CtTPw"
      },
      "source": [
        "# 3. Comments in Python"
      ]
    },
    {
      "cell_type": "markdown",
      "metadata": {
        "id": "VDlGS0amtTPx"
      },
      "source": [
        "A comment may appear at the start of a line or following whitespace or code, but not within a string literal.<br/>\n",
        "A hash character within a string literal is just a hash character.<br/>\n",
        "Comments are lines that are ignored by compilers and interpreters. <br/>\n",
        "### This is one of the best way to convey the idea behind the code and people reusing your code can easily make sense of your code"
      ]
    },
    {
      "cell_type": "markdown",
      "metadata": {
        "id": "nMBo9lPXtTPx"
      },
      "source": [
        "### Single line comment"
      ]
    },
    {
      "cell_type": "code",
      "metadata": {
        "id": "kqptG-uRtTPx"
      },
      "source": [
        "# This is a single line comment. Has no effect on the code below\n",
        "abd = 10"
      ],
      "execution_count": null,
      "outputs": []
    },
    {
      "cell_type": "markdown",
      "metadata": {
        "id": "O1peSqkTtTPx"
      },
      "source": [
        "### Multi line comment"
      ]
    },
    {
      "cell_type": "code",
      "metadata": {
        "id": "8kINJcrFtTPy"
      },
      "source": [
        "# You can write multiple lines of comment by putting a '#' at the beginning\n",
        "# You can write multiple lines of comment by putting a '#' at the beginning\n",
        "# You can write multiple lines of comment by putting a '#' at the beginning"
      ],
      "execution_count": null,
      "outputs": []
    },
    {
      "cell_type": "code",
      "metadata": {
        "id": "FukzQVB2tTPy"
      },
      "source": [
        "'''\n",
        "A better option to write multi line comment is by adding all your \n",
        "text between a set of 3-single or 3-double quotes. Like we have done here\n",
        "'''"
      ],
      "execution_count": null,
      "outputs": []
    },
    {
      "cell_type": "code",
      "metadata": {
        "id": "-9xk1bqhtTPy",
        "outputId": "facca041-7613-4ca3-b9a7-e6c4c4c4608d"
      },
      "source": [
        "\"\"\"\n",
        "A better option to write multi line comment is by adding all your \n",
        "text between a set of 3-single or 3-double quotes. Like we have done here\n",
        "\"\"\""
      ],
      "execution_count": null,
      "outputs": [
        {
          "output_type": "execute_result",
          "data": {
            "text/plain": [
              "'\\nA better option to write multi line comment is by adding all your \\ntext between a set of 3-single or 3-double quotes. Like we have done here\\n'"
            ]
          },
          "metadata": {
            "tags": []
          },
          "execution_count": 25
        }
      ]
    },
    {
      "cell_type": "markdown",
      "metadata": {
        "id": "IMsV269itTPz"
      },
      "source": [
        "### Docstring"
      ]
    },
    {
      "cell_type": "markdown",
      "metadata": {
        "id": "hmziNMAJtTPz"
      },
      "source": [
        "Docstring is short for documentation string.<p/>\n",
        "\n",
        "String that occurs as the first statement in a module, function, class, <br/>\n",
        "or method definition. Used to define what a function/class does."
      ]
    },
    {
      "cell_type": "code",
      "metadata": {
        "colab": {
          "base_uri": "https://localhost:8080/"
        },
        "id": "xib-OCCctTPz",
        "outputId": "d7c2aa2d-4776-43d1-ed7b-c53425671ab2"
      },
      "source": [
        "def square(num):\n",
        "    \"\"\"\n",
        "    Function to square a number. \n",
        "    Print this docstring using __doc__ attribute of the function\n",
        "    \"\"\"\n",
        "    return num * num\n",
        "\n",
        "print(square(20))"
      ],
      "execution_count": 1,
      "outputs": [
        {
          "output_type": "stream",
          "text": [
            "400\n"
          ],
          "name": "stdout"
        }
      ]
    },
    {
      "cell_type": "code",
      "metadata": {
        "colab": {
          "base_uri": "https://localhost:8080/"
        },
        "id": "a59iJ4gWtTP0",
        "outputId": "cb4cfe56-24d4-45cb-9f84-6ddf6576c626"
      },
      "source": [
        "print(square.__doc__)      # To print the docstring of a function use the __doc__ attribute of the function"
      ],
      "execution_count": 2,
      "outputs": [
        {
          "output_type": "stream",
          "text": [
            "\n",
            "    Function to square a number. \n",
            "    Print this docstring using __doc__ attribute of the function\n",
            "    \n"
          ],
          "name": "stdout"
        }
      ]
    },
    {
      "cell_type": "code",
      "metadata": {
        "colab": {
          "base_uri": "https://localhost:8080/"
        },
        "id": "UQKXd_aJtTP0",
        "outputId": "aa5b1944-b8ec-4768-8cdc-b983e9c729f7"
      },
      "source": [
        "square                     # Press shift+tab to view the docstring"
      ],
      "execution_count": 3,
      "outputs": [
        {
          "output_type": "execute_result",
          "data": {
            "text/plain": [
              "<function __main__.square>"
            ]
          },
          "metadata": {
            "tags": []
          },
          "execution_count": 3
        }
      ]
    },
    {
      "cell_type": "markdown",
      "metadata": {
        "id": "Y1_YbLYatTP0"
      },
      "source": [
        "# 4. Python Indentation"
      ]
    },
    {
      "cell_type": "markdown",
      "metadata": {
        "id": "PU89Nz5NtTP1"
      },
      "source": [
        "Unlike C, C++, Java where we use braces { } to define a block of code, in Python we use indentation.\n",
        "\n",
        "A code block (body of a function, loop etc.) starts with indentation and ends with the first unindented line. The amount of indentation is up to you, but it must be consistent throughout that block.\n",
        "\n",
        "Generally four whitespaces are used for indentation and is preferred over tabs.\n",
        "\n",
        "Leading whitespace (spaces and tabs) at the beginning of a logical line is used to compute the indentation level of the line, <b>which in turn is used to determine the grouping of statements</b>."
      ]
    },
    {
      "cell_type": "code",
      "metadata": {
        "id": "rsHzJJvbtTP1",
        "outputId": "163e9e73-76b5-4c63-ab9c-219cb7a52630"
      },
      "source": [
        "variable1 = 10\n",
        "  variable2 = 20          # Logical continuation disrupted"
      ],
      "execution_count": null,
      "outputs": [
        {
          "output_type": "error",
          "ename": "IndentationError",
          "evalue": "unexpected indent (<ipython-input-39-de16c44c4389>, line 2)",
          "traceback": [
            "\u001b[0;36m  File \u001b[0;32m\"<ipython-input-39-de16c44c4389>\"\u001b[0;36m, line \u001b[0;32m2\u001b[0m\n\u001b[0;31m    variable2 = 20 # Logical continuation disrupted\u001b[0m\n\u001b[0m    ^\u001b[0m\n\u001b[0;31mIndentationError\u001b[0m\u001b[0;31m:\u001b[0m unexpected indent\n"
          ]
        }
      ]
    },
    {
      "cell_type": "code",
      "metadata": {
        "id": "jDNlz2-DtTP1"
      },
      "source": [
        "variable1 = 10\n",
        "variable2 = 20"
      ],
      "execution_count": null,
      "outputs": []
    },
    {
      "cell_type": "code",
      "metadata": {
        "id": "KWbz3JEvtTP2",
        "outputId": "44441fa9-d3ad-4587-ea7b-c5e43a89b430"
      },
      "source": [
        "for i in range (1,4):\n",
        "    print(i)              # Logical continuation maintained"
      ],
      "execution_count": null,
      "outputs": [
        {
          "output_type": "stream",
          "text": [
            "1\n",
            "2\n",
            "3\n"
          ],
          "name": "stdout"
        }
      ]
    },
    {
      "cell_type": "markdown",
      "metadata": {
        "id": "nWw4Fos_tTP2"
      },
      "source": [
        "### Indentation is a good way to keep the code readable"
      ]
    },
    {
      "cell_type": "code",
      "metadata": {
        "id": "9EIJGiUmtTP2",
        "outputId": "41e94110-5bf5-420e-b2e2-23965321341f"
      },
      "source": [
        "variable1=10;variable2=20                   # Everything could be in one line but less readable. Multiple statement in one line\n",
        "\n",
        "for i in range (1,4): print(i)              # Everything could be in one line but less readable"
      ],
      "execution_count": null,
      "outputs": [
        {
          "output_type": "stream",
          "text": [
            "1\n",
            "2\n",
            "3\n"
          ],
          "name": "stdout"
        }
      ]
    },
    {
      "cell_type": "markdown",
      "metadata": {
        "id": "esKlU4vWtTP2"
      },
      "source": [
        "# 5. Python Statement"
      ]
    },
    {
      "cell_type": "markdown",
      "metadata": {
        "id": "jJ0uNCKjtTP3"
      },
      "source": [
        "Instructions that a Python interpreter can execute are called statements. For example, a = 1 is an assignment statement. if statement, for statement, while statement etc. are other kinds of statements which will be discussed later."
      ]
    },
    {
      "cell_type": "markdown",
      "metadata": {
        "id": "3hdcp4-BtTP3"
      },
      "source": [
        "### Single-line statement"
      ]
    },
    {
      "cell_type": "code",
      "metadata": {
        "id": "gkN8dVCStTP4"
      },
      "source": [
        "number = 10"
      ],
      "execution_count": null,
      "outputs": []
    },
    {
      "cell_type": "markdown",
      "metadata": {
        "id": "1STZHrBEtTP4"
      },
      "source": [
        "### Multi-line statement \n",
        "(Use a continuation character '\\')"
      ]
    },
    {
      "cell_type": "code",
      "metadata": {
        "id": "xIUN7cMZtTP4",
        "outputId": "28a9c873-3afa-4aaa-b9db-71ca10a2acc9"
      },
      "source": [
        "number = 10 + 20 + \\\n",
        "         30 + 40 + \\\n",
        "         50\n",
        "    \n",
        "print(number)"
      ],
      "execution_count": null,
      "outputs": [
        {
          "output_type": "stream",
          "text": [
            "150\n"
          ],
          "name": "stdout"
        }
      ]
    },
    {
      "cell_type": "markdown",
      "metadata": {
        "id": "vBStW-qktTP5"
      },
      "source": [
        "(Alternately use brackets)"
      ]
    },
    {
      "cell_type": "code",
      "metadata": {
        "id": "a1KqPf7utTP5",
        "outputId": "fa152f1e-9b58-4432-af92-77dcdd018f5e"
      },
      "source": [
        "number = (10 + 20 + \n",
        "         30 + 40 + \n",
        "         50)\n",
        "    \n",
        "print(number)"
      ],
      "execution_count": null,
      "outputs": [
        {
          "output_type": "stream",
          "text": [
            "150\n"
          ],
          "name": "stdout"
        }
      ]
    }
  ]
}